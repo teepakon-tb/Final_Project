{
 "cells": [
  {
   "cell_type": "markdown",
   "metadata": {},
   "source": [
    "Setup connect Elasticsearch"
   ]
  },
  {
   "cell_type": "code",
   "execution_count": 35,
   "metadata": {},
   "outputs": [
    {
     "name": "stdout",
     "output_type": "stream",
     "text": [
      "health status index                                      uuid                   pri rep docs.count docs.deleted store.size pri.store.size\n",
      "green  open   metrics-endpoint.metadata_current_default  4UaeuRRVR_S7QFdQhHAEiA   1   0          0            0       248b           248b\n",
      "yellow open   itdml-2023.10.09                           giq5Py3UTGicOhJKp9aRxA   1   1         10            0    142.5kb        142.5kb\n",
      "yellow open   .ds-logs-generic-default-2023.07.09-000001 ON40-_e-SY-DfgGTl1sK0w   1   1          0            0       266b           266b\n",
      "yellow open   .ds-logs-generic-default-2023.08.08-000002 fg6MdpcpQwmxdRZI9GmkcA   1   1          0            0       263b           263b\n",
      "yellow open   itdml-2023.10.06                           216Qpq5WTcCuGVWU-3l1hA   1   1         28            0    589.8kb        589.8kb\n",
      "yellow open   .ds-logs-generic-default-2023.09.07-000003 h8_rA3iYSJG_NhWESH44tg   1   1          0            0       247b           247b\n",
      "yellow open   itdml-2023.09.05                           9svqTtN-RfSFZfL3O3RAmA   1   1          0            0       251b           251b\n",
      "yellow open   itdml-2023.08.29                           4BaWGpdATleIFOm3wuRjdg   1   1          0            0       261b           261b\n",
      "yellow open   itdml-2023.09.01                           cfp8XyGQTZOOjDm21FYcMw   1   1          0            0       246b           246b\n",
      "yellow open   itdml-2023.09.11                           AdGBJW-DTyaL18_HH8JfRA   1   1          0            0       245b           245b\n",
      "\n"
     ]
    }
   ],
   "source": [
    "from elasticsearch import Elasticsearch\n",
    "\n",
    "# กำหนด Elasticsearch URL ในรูปแบบ http://ip_address:port\n",
    "es = Elasticsearch(['http://192.168.53.230:9200/'])\n",
    "\n",
    "# ใช้คำสั่ง cat indices โดยใช้ Elasticsearch API\n",
    "cat_indices = es.cat.indices(v=True)\n",
    "\n",
    "# แสดงผลลัพธ์\n",
    "print(cat_indices)\n"
   ]
  },
  {
   "cell_type": "code",
   "execution_count": 39,
   "metadata": {},
   "outputs": [
    {
     "name": "stdout",
     "output_type": "stream",
     "text": [
      "ข้อมูลถูกบันทึกเป็นไฟล์ elasticsearch_data.csv\n"
     ]
    },
    {
     "name": "stderr",
     "output_type": "stream",
     "text": [
      "C:\\Users\\NITRO 5\\AppData\\Local\\Temp\\ipykernel_15284\\3314904132.py:12: DeprecationWarning: The 'body' parameter is deprecated and will be removed in a future version. Instead use individual parameters.\n",
      "  response = es.search(index=index_name, body=search_body)\n"
     ]
    }
   ],
   "source": [
    "import pandas as pd\n",
    "# ชื่อของ index ที่คุณต้องการดู\n",
    "index_name = \"itdml-2023.10.09\"\n",
    "\n",
    "# ใช้คำสั่ง search() เพื่อค้นหาข้อมูลใน index ที่ระบุ\n",
    "search_body = {\n",
    "    \"query\": {\n",
    "        \"match_all\": {}  # ค้นหาทุกเอกสารใน index\n",
    "    }\n",
    "}\n",
    "\n",
    "response = es.search(index=index_name, body=search_body)\n",
    "\n",
    "# ดึงข้อมูลเอกสารจาก Elasticsearch response\n",
    "documents = [hit['_source'] for hit in response['hits']['hits']]\n",
    "\n",
    "# สร้าง DataFrame จากข้อมูล\n",
    "df = pd.DataFrame(documents)\n",
    "\n",
    "# บันทึก DataFrame เป็นไฟล์ CSV\n",
    "csv_filename = \"elasticsearch_data.csv\"\n",
    "df.to_csv(csv_filename, index=False)\n",
    "\n",
    "print(f\"ข้อมูลถูกบันทึกเป็นไฟล์ {csv_filename}\")"
   ]
  },
  {
   "cell_type": "code",
   "execution_count": null,
   "metadata": {},
   "outputs": [],
   "source": []
  }
 ],
 "metadata": {
  "kernelspec": {
   "display_name": "Python 3",
   "language": "python",
   "name": "python3"
  },
  "language_info": {
   "codemirror_mode": {
    "name": "ipython",
    "version": 3
   },
   "file_extension": ".py",
   "mimetype": "text/x-python",
   "name": "python",
   "nbconvert_exporter": "python",
   "pygments_lexer": "ipython3",
   "version": "3.11.6"
  }
 },
 "nbformat": 4,
 "nbformat_minor": 2
}
