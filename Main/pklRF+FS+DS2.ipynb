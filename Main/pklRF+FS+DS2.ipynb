{
 "cells": [
  {
   "cell_type": "code",
   "execution_count": 1,
   "metadata": {},
   "outputs": [
    {
     "name": "stdout",
     "output_type": "stream",
     "text": [
      "Accuracy: 0.9762348178137652\n"
     ]
    },
    {
     "data": {
      "text/plain": [
       "['preprocessor+FS+DS2.pkl']"
      ]
     },
     "execution_count": 1,
     "metadata": {},
     "output_type": "execute_result"
    }
   ],
   "source": [
    "import pandas as pd\n",
    "from sklearn.model_selection import train_test_split\n",
    "from sklearn.preprocessing import MinMaxScaler, OneHotEncoder\n",
    "from sklearn.compose import ColumnTransformer\n",
    "from sklearn.pipeline import Pipeline\n",
    "from sklearn.ensemble import RandomForestClassifier\n",
    "from sklearn.metrics import accuracy_score\n",
    "import joblib\n",
    "\n",
    "# โหลดข้อมูลการฝึก\n",
    "training_data_path = r'D:\\โปรเจค\\Project\\Data_Set\\UNSW_NB15_training-set.csv' \n",
    "training_data = pd.read_csv(training_data_path)\n",
    "\n",
    "# เลือกคอลัมน์ที่ใช้ในการฝึกและเป้าหมาย\n",
    "features = ['sbytes', 'dbytes', 'spkts', 'dpkts',\n",
    "            'response_body_len', 'sinpkt', 'dinpkt', 'is_sm_ips_ports', \n",
    "            'is_ftp_login', 'ct_srv_src', 'ct_srv_dst', 'ct_dst_ltm', \n",
    "            'ct_src_ltm', 'ct_src_dport_ltm', 'ct_dst_sport_ltm', 'ct_dst_src_ltm']\n",
    "target = 'label'\n",
    "\n",
    "X = training_data[features]\n",
    "y = training_data[target]\n",
    "\n",
    "# แยกชุดข้อมูลเป็นชุดฝึกและชุดทดสอบ\n",
    "X_train, X_test, y_train, y_test = train_test_split(X, y, test_size=0.3, random_state=42)\n",
    "\n",
    "# การปรับแต่ง MinMaxScaler เพื่อปรับค่าตัวแปรต่อเนื่อง\n",
    "numeric_features = X_train.columns\n",
    "categorical_features = []\n",
    "\n",
    "preprocessor = ColumnTransformer(\n",
    "    transformers=[\n",
    "        ('num', MinMaxScaler(), numeric_features),\n",
    "        ('cat', OneHotEncoder(), categorical_features)  # เพิ่ม Transformer สำหรับ One-Hot Encoding ตรงนี้\n",
    "    ])\n",
    "\n",
    "# สร้างและฝึกโมเดลโดยใช้ pipeline\n",
    "pipeline = Pipeline(steps=[('preprocessor', preprocessor),\n",
    "                           ('classifier', RandomForestClassifier(random_state=42))])\n",
    "pipeline.fit(X_train, y_train)\n",
    "\n",
    "# ทำนายและคำนวณความแม่นยำ\n",
    "y_pred = pipeline.predict(X_test)\n",
    "accuracy = accuracy_score(y_test, y_pred)\n",
    "print(f'Accuracy: {accuracy}')\n",
    "\n",
    "# บันทึกโมเดลและการประมวลผล\n",
    "model_path = 'rf_classifier+FS+DS2.pkl'\n",
    "preprocessor_path = 'preprocessor+FS+DS2.pkl'\n",
    "joblib.dump(pipeline['classifier'], model_path)\n",
    "joblib.dump(pipeline['preprocessor'], preprocessor_path)\n"
   ]
  }
 ],
 "metadata": {
  "kernelspec": {
   "display_name": "Python 3",
   "language": "python",
   "name": "python3"
  },
  "language_info": {
   "codemirror_mode": {
    "name": "ipython",
    "version": 3
   },
   "file_extension": ".py",
   "mimetype": "text/x-python",
   "name": "python",
   "nbconvert_exporter": "python",
   "pygments_lexer": "ipython3",
   "version": "3.11.9"
  }
 },
 "nbformat": 4,
 "nbformat_minor": 2
}
